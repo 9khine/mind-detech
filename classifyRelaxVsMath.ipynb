{
 "cells": [
  {
   "cell_type": "code",
   "execution_count": 2,
   "metadata": {
    "collapsed": false
   },
   "outputs": [
    {
     "data": {
      "text/plain": [
       "936"
      ]
     },
     "execution_count": 2,
     "metadata": {},
     "output_type": "execute_result"
    }
   ],
   "source": [
    "import json\n",
    "import pandas as pd\n",
    "\n",
    "#df = pd.read_csv(\"../input/eeg-data.csv\")\n",
    "df = pd.read_csv(\"/Users/khinehtwe/git/mind-detech/input/eeg-data.csv\")\n",
    "\n",
    "\n",
    "\n",
    "# convert to arrays from strings\n",
    "df.raw_values = df.raw_values.map(json.loads)\n",
    "df.eeg_power = df.eeg_power.map(json.loads)\n",
    "\n",
    "relax = df[df.label == 'relax']\n",
    "math = df[(df.label == 'math1') |\n",
    "          (df.label == 'math2') |\n",
    "          (df.label == 'math3') |\n",
    "          (df.label == 'math4') |\n",
    "          (df.label == 'math5') |\n",
    "          (df.label == 'math6') |\n",
    "          (df.label == 'math7') |\n",
    "          (df.label == 'math8') |\n",
    "          (df.label == 'math9') |\n",
    "          (df.label == 'math10') |\n",
    "          (df.label == 'math11') |\n",
    "          (df.label == 'math12') ]\n",
    "\n",
    "len(relax)\n",
    "len(math)"
   ]
  },
  {
   "cell_type": "code",
   "execution_count": 3,
   "metadata": {
    "collapsed": true
   },
   "outputs": [],
   "source": [
    "from sklearn.model_selection import cross_val_score\n",
    "from sklearn import svm\n",
    "def cross_val_svm (X,y,n):\n",
    "    clf = svm.SVC()\n",
    "    scores = cross_val_score(clf, X, y, cv=n)\n",
    "    return scores"
   ]
  },
  {
   "cell_type": "code",
   "execution_count": 4,
   "metadata": {
    "collapsed": true
   },
   "outputs": [],
   "source": [
    "def vectors_labels (list1, list2):\n",
    "    def label (l):\n",
    "        return lambda x: l\n",
    "    X = list1 + list2\n",
    "    y = list(map(label(0), list1)) + list(map(label(1), list2))\n",
    "    return X, y"
   ]
  },
  {
   "cell_type": "code",
   "execution_count": 5,
   "metadata": {
    "collapsed": false
   },
   "outputs": [
    {
     "data": {
      "text/plain": [
       "array([ 0.5,  0.5,  0.5,  0.5,  0.5,  0.5,  0.5])"
      ]
     },
     "execution_count": 5,
     "metadata": {},
     "output_type": "execute_result"
    }
   ],
   "source": [
    "one_math = math[math['id']==12]\n",
    "one_relax = relax[relax['id']==12]\n",
    "X, y = vectors_labels(one_math.eeg_power.tolist(), one_relax.eeg_power.tolist())\n",
    "cross_val_svm(X,y,7)"
   ]
  },
  {
   "cell_type": "code",
   "execution_count": 6,
   "metadata": {
    "collapsed": true
   },
   "outputs": [],
   "source": [
    "from scipy import stats\n",
    "from scipy.interpolate import interp1d\n",
    "import itertools\n",
    "import numpy as np\n",
    "\n",
    "def spectrum (vector):\n",
    "    '''get the power spectrum of a vector of raw EEG data'''\n",
    "    A = np.fft.fft(vector)\n",
    "    ps = np.abs(A)**2\n",
    "    ps = ps[:len(ps)//2]\n",
    "    return ps\n",
    "\n",
    "def binned (pspectra, n):\n",
    "    '''compress an array of power spectra into vectors of length n'''\n",
    "    l = len(pspectra)\n",
    "    array = np.zeros([l,n])\n",
    "    for i,ps in enumerate(pspectra):\n",
    "        x = np.arange(1,len(ps)+1)\n",
    "        f = interp1d(x,ps)#/np.sum(ps))\n",
    "        array[i] = f(np.arange(1, n+1))\n",
    "    index = np.argwhere(array[:,0]==-1)\n",
    "    array = np.delete(array,index,0)\n",
    "    return array\n",
    "\n",
    "def feature_vector (readings, bins=100): # A function we apply to each group of power spectra\n",
    "  '''\n",
    "  Create 100, log10-spaced bins for each power spectrum.\n",
    "  For more on how this particular implementation works, see:\n",
    "  http://coolworld.me/pre-processing-EEG-consumer-devices/\n",
    "  '''\n",
    "  bins = binned(list(map(spectrum, readings)), bins)\n",
    "  return np.log10(np.mean(bins, 0))\n",
    "\n",
    "ex_readings = one_relax.raw_values[:3]\n",
    "feature_vector(ex_readings)\n",
    "\n",
    "def grouper(n, iterable, fillvalue=None):\n",
    "    \"grouper(3, 'ABCDEFG', 'x') --> ABC DEF Gxx\"\n",
    "    args = [iter(iterable)] * n\n",
    "    return itertools.zip_longest(*args, fillvalue=fillvalue)\n",
    "\n",
    "def vectors (df):\n",
    "    return [feature_vector(group) for group in list(grouper(3, df.raw_values.tolist()))[:-1]]"
   ]
  },
  {
   "cell_type": "code",
   "execution_count": 7,
   "metadata": {
    "collapsed": false
   },
   "outputs": [
    {
     "data": {
      "text/plain": [
       "0.7857142857142857"
      ]
     },
     "execution_count": 7,
     "metadata": {},
     "output_type": "execute_result"
    }
   ],
   "source": [
    "X,y = vectors_labels(\n",
    "    vectors(one_math),\n",
    "    vectors(one_relax))\n",
    "\n",
    "cross_val_svm(X,y,7).mean()"
   ]
  },
  {
   "cell_type": "code",
   "execution_count": 8,
   "metadata": {
    "collapsed": false
   },
   "outputs": [
    {
     "data": {
      "text/plain": [
       "0.8928571428571429"
      ]
     },
     "execution_count": 8,
     "metadata": {},
     "output_type": "execute_result"
    }
   ],
   "source": [
    "from sklearn import preprocessing\n",
    "X = preprocessing.scale(X)\n",
    "cross_val_svm(X,y,7).mean()"
   ]
  },
  {
   "cell_type": "code",
   "execution_count": 9,
   "metadata": {
    "collapsed": false
   },
   "outputs": [
    {
     "data": {
      "text/plain": [
       "[('subject 1', 0.9285714285714286),\n",
       " ('subject 2', 0.8214285714285714),\n",
       " ('subject 3', 1.0),\n",
       " ('subject 4', 0.7857142857142857),\n",
       " ('subject 5', 0.9285714285714286),\n",
       " ('subject 6', 0.6785714285714286),\n",
       " ('subject 7', 0.55952380952380953),\n",
       " ('subject 8', 0.8571428571428571),\n",
       " ('subject 9', 0.7142857142857143),\n",
       " ('subject 10', 0.7142857142857143),\n",
       " ('subject 11', 0.8571428571428571),\n",
       " ('subject 12', 0.8928571428571429),\n",
       " ('subject 13', 0.9642857142857143),\n",
       " ('subject 14', 0.9285714285714286),\n",
       " ('subject 15', 0.6071428571428571),\n",
       " ('subject 16', 0.9285714285714286),\n",
       " ('subject 17', 0.66666666666666663),\n",
       " ('subject 18', 0.7142857142857143),\n",
       " ('subject 19', 0.9642857142857143),\n",
       " ('subject 20', 0.8214285714285714),\n",
       " ('subject 21', 0.8571428571428571),\n",
       " ('subject 22', 0.32142857142857145),\n",
       " ('subject 23', 0.7142857142857143),\n",
       " ('subject 24', 0.9642857142857143),\n",
       " ('subject 25', 0.6071428571428571),\n",
       " ('subject 26', 0.52380952380952384),\n",
       " ('subject 27', 0.8571428571428571),\n",
       " ('subject 28', 0.5714285714285714),\n",
       " ('subject 29', 0.8571428571428571),\n",
       " ('subject 30', 0.84523809523809512)]"
      ]
     },
     "execution_count": 9,
     "metadata": {},
     "output_type": "execute_result"
    }
   ],
   "source": [
    "def estimated_accuracy (subject):\n",
    "    m = math[math['id']==subject]\n",
    "    r = relax[relax['id']==subject]\n",
    "    X,y = vectors_labels(vectors(m),vectors(r))\n",
    "    X=preprocessing.scale(X)\n",
    "    return cross_val_svm(X,y,7).mean()\n",
    "\n",
    "[('subject '+str(subj), estimated_accuracy(subj)) for subj in range(1,31)]"
   ]
  },
  {
   "cell_type": "code",
   "execution_count": null,
   "metadata": {
    "collapsed": true
   },
   "outputs": [],
   "source": []
  }
 ],
 "metadata": {
  "kernelspec": {
   "display_name": "Python 3",
   "language": "python",
   "name": "python3"
  },
  "language_info": {
   "codemirror_mode": {
    "name": "ipython",
    "version": 3
   },
   "file_extension": ".py",
   "mimetype": "text/x-python",
   "name": "python",
   "nbconvert_exporter": "python",
   "pygments_lexer": "ipython3",
   "version": "3.6.0"
  }
 },
 "nbformat": 4,
 "nbformat_minor": 0
}
